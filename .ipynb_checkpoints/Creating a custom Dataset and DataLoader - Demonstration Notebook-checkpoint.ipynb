{
 "cells": [
  {
   "cell_type": "markdown",
   "id": "southern-basketball",
   "metadata": {},
   "source": [
    "# Creating a dataloader and pre-processing our data\n",
    "\n",
    "## 0. Before we start\n",
    "\n",
    "This notebook is used to demonstrate how to create a dataloader on a **mock** dataset, which resembles the one, which will be used for the small project in the SUTD 50.039 Deep Learning class (Y2021).\n",
    "\n",
    "This notebook intends to demonstrate a way to create dataloaders from scratch, i.e. just a folder containing several images, so that it can later be fed into our PyTorch model.\n",
    "\n",
    "It consists of four parts:\n",
    "1. Getting familiar with the demo dataset and the images it contains.\n",
    "2. Creating a dataset object in general, and later, specific ones for training, testing and validation datasets.7\n",
    "3. Using torch to transform said dataset into a dataloader,\n",
    "4. and later use the said DataLoader in the training of a simple PyTorch model.\n",
    "\n",
    "It relies on the following libraries:\n",
    "- Matplotlib for displaying images in matplotlib plots,\n",
    "- Numpy for numerical operations on tensors/arrays,\n",
    "- Pillow (PIL) for opening images,\n",
    "- and torch/torchvision for typical operations on tensors, datasets and dataloaders."
   ]
  },
  {
   "cell_type": "code",
   "execution_count": 3,
   "id": "descending-profit",
   "metadata": {},
   "outputs": [],
   "source": [
    "# Matplotlib\n",
    "import matplotlib.pyplot as plt\n",
    "# Numpy\n",
    "import numpy as np\n",
    "# Pillow\n",
    "from PIL import Image\n",
    "# Torch\n",
    "import torch\n",
    "from torch.utils.data import Dataset, DataLoader\n",
    "import torch.nn as nn\n",
    "import torch.optim as optim\n",
    "import torch.nn.functional as F\n",
    "from torchvision import transforms"
   ]
  },
  {
   "cell_type": "markdown",
   "id": "apart-honor",
   "metadata": {},
   "source": [
    "## 1. Getting familiar with the dataset\n",
    "\n",
    "The images stored in the **./dataset_demo** folder and its subfolder consists of 150 by 150 pixels greyscale images, representing X-Ray pictures of lungs. "
   ]
  },
  {
   "cell_type": "code",
   "execution_count": 4,
   "id": "facial-guatemala",
   "metadata": {},
   "outputs": [],
   "source": [
    "# All images are of size 150 x 150\n",
    "size = (150, 150)"
   ]
  },
  {
   "cell_type": "markdown",
   "id": "regular-royalty",
   "metadata": {},
   "source": [
    "The images, consists of X-ray pictures of infected lungs (class with index 1 and label 'infected') or people with no infection diagnosis (class with index 0 and label 'normal')."
   ]
  },
  {
   "cell_type": "code",
   "execution_count": 5,
   "id": "announced-korean",
   "metadata": {},
   "outputs": [
    {
     "name": "stdout",
     "output_type": "stream",
     "text": [
      "{0: 'normal', 1: 'infected'}\n"
     ]
    }
   ],
   "source": [
    "# Only two classes will be considered here (normal and infected)\n",
    "classes = {0: 'normal', 1: 'infected'}\n",
    "print(classes)"
   ]
  },
  {
   "cell_type": "markdown",
   "id": "fresh-paste",
   "metadata": {},
   "source": [
    "The dataset has been split into training, testing and validation sets, containing several non-identical pictures."
   ]
  },
  {
   "cell_type": "code",
   "execution_count": 6,
   "id": "honey-fabric",
   "metadata": {},
   "outputs": [
    {
     "name": "stdout",
     "output_type": "stream",
     "text": [
      "['train', 'test', 'val']\n"
     ]
    }
   ],
   "source": [
    "# The dataset has been split in training, testing and validation groups\n",
    "groups = ['train', 'test', 'val']\n",
    "print(groups)"
   ]
  },
  {
   "cell_type": "markdown",
   "id": "furnished-phoenix",
   "metadata": {},
   "source": [
    "This dataset is a simplified subset of the one you will be working on for the small project.\n",
    "It contains a rather limited number of images, and will only be used in this notebook to demonstrate how to create a PyTorch dataloader, which can later be fed to our PyTorch models."
   ]
  },
  {
   "cell_type": "code",
   "execution_count": 7,
   "id": "focused-password",
   "metadata": {},
   "outputs": [
    {
     "name": "stdout",
     "output_type": "stream",
     "text": [
      "{'train_normal': 36, 'train_infected': 34, 'val_normal': 4, 'val_infected': 4, 'test_normal': 14, 'test_infected': 13}\n"
     ]
    }
   ],
   "source": [
    "# Number of images in each part of the dataset\n",
    "dataset_numbers = {'train_normal': 36,\\\n",
    "                   'train_infected': 34,\\\n",
    "                   'val_normal': 4,\\\n",
    "                   'val_infected': 4,\\\n",
    "                   'test_normal': 14,\\\n",
    "                   'test_infected': 13}\n",
    "print(dataset_numbers)"
   ]
  },
  {
   "cell_type": "markdown",
   "id": "pretty-fellow",
   "metadata": {},
   "source": [
    "Each subset is stored in a different subfolder of the ./dataset_demo/ folder, as listed in the dictionary below."
   ]
  },
  {
   "cell_type": "code",
   "execution_count": 8,
   "id": "romance-injection",
   "metadata": {},
   "outputs": [
    {
     "name": "stdout",
     "output_type": "stream",
     "text": [
      "{'train_normal': './dataset_demo/train/normal/', 'train_infected': './dataset_demo/train/infected/', 'val_normal': './dataset_demo/val/normal/', 'val_infected': './dataset_demo/val/infected/', 'test_normal': './dataset_demo/test/normal/', 'test_infected': './dataset_demo/test/infected/'}\n"
     ]
    }
   ],
   "source": [
    "# Path to images for different parts of the dataset\n",
    "dataset_paths = {'train_normal': './dataset_demo/train/normal/',\\\n",
    "                 'train_infected': './dataset_demo/train/infected/',\\\n",
    "                 'val_normal': './dataset_demo/val/normal/',\\\n",
    "                 'val_infected': './dataset_demo/val/infected/',\\\n",
    "                 'test_normal': './dataset_demo/test/normal/',\\\n",
    "                 'test_infected': './dataset_demo/test/infected/'}\n",
    "print(dataset_paths)"
   ]
  },
  {
   "cell_type": "markdown",
   "id": "reserved-passion",
   "metadata": {},
   "source": [
    "The images can simply be opened by using their full path and the open function of the PIL.Image library. It can then be displayed on screen using matplotlib. Note that the pictures are greyscale, but for readability, matplotlib will display them using an automatic color mapping."
   ]
  },
  {
   "cell_type": "code",
   "execution_count": null,
   "id": "collective-arizona",
   "metadata": {},
   "outputs": [],
   "source": [
    "# Display an image\n",
    "path_to_file = './dataset_demo/train/normal/1.jpg'\n",
    "with open(path_to_file, 'rb') as f:\n",
    "    im = np.asarray(Image.open(f))\n",
    "    plt.imshow(im)\n",
    "# f.close()"
   ]
  },
  {
   "cell_type": "markdown",
   "id": "lightweight-venture",
   "metadata": {},
   "source": [
    "As expected, the images are 150 by 150 pixels images."
   ]
  },
  {
   "cell_type": "code",
   "execution_count": null,
   "id": "promising-sudan",
   "metadata": {},
   "outputs": [],
   "source": [
    "# Image shape is indeed 150 x 150\n",
    "print(im.shape)"
   ]
  },
  {
   "cell_type": "markdown",
   "id": "dietary-indiana",
   "metadata": {},
   "source": [
    "And these images consist of a Numpy array (thanks to the np.asarray() operation in the previous cell), with values ranging between 0 and 255. Later on, we will have to normalize these values."
   ]
  },
  {
   "cell_type": "code",
   "execution_count": null,
   "id": "academic-transcription",
   "metadata": {},
   "outputs": [],
   "source": [
    "# Images are defined as a Numpy array of values between 0 and 256\n",
    "print(im)"
   ]
  },
  {
   "cell_type": "markdown",
   "id": "english-holmes",
   "metadata": {},
   "source": [
    "## 2. Creating a Dataset object\n",
    "\n",
    "### 2.a. Creating a global Dataset object\n",
    "\n",
    "Let us start this part by creating a general Dataset object, called Lung_Dataset.\n",
    "\n",
    "It starts with of a constructor, which simply gathers the key parameters we listed in Part 1., into attributes of the object.\n",
    "\n",
    "Second, a describe method is provided, which simply displays a few details regarding the dataset. Note that a describe function like this one is often considered good practice, as it provides any developer with details about the dataset, at a glance.\n",
    "\n",
    "Third, an open_image method is provided, an will open the image defined by the combination of parameters defined in (group_val, class_val, index_val). For instance, if group_val is set to 'train', class val is set to 'normal' and index_val set to 3, the function will load the image in ./dataset_demo/train/normal/3.jpg.\n",
    "Note that the open_image method has a few asserts designed to cover for unexpected values for (group_val, class_val, index_val).\n",
    "\n",
    "Finally, it contains a show_img method, which will open the image for the parameters in (group_val, class_val, index_val), and will display it on screen, using matplotlib.\n",
    "\n",
    "Our full general Dataset object, Lung_Dataset, is shown below. Note that it inherits from the Dataset class from the torch.utils.data library."
   ]
  },
  {
   "cell_type": "code",
   "execution_count": null,
   "id": "roman-least",
   "metadata": {},
   "outputs": [],
   "source": [
    "class Lung_Dataset(Dataset):\n",
    "    \"\"\"\n",
    "    Generic Dataset class.\n",
    "    \"\"\"\n",
    "    \n",
    "    def __init__(self):\n",
    "        \"\"\"\n",
    "        Constructor for generic Dataset class - simply assembles\n",
    "        the important parameters in attributes.\n",
    "        \"\"\"\n",
    "        \n",
    "        # All images are of size 150 x 150\n",
    "        self.img_size = (150, 150)\n",
    "        \n",
    "        # Only two classes will be considered here (normal and infected)\n",
    "        self.classes = {0: 'normal', 1: 'infected'}\n",
    "        \n",
    "        # The dataset has been split in training, testing and validation datasets\n",
    "        self.groups = ['train', 'test', 'val']\n",
    "        \n",
    "        # Number of images in each part of the dataset\n",
    "        self.dataset_numbers = {'train_normal': 36,\\\n",
    "                                'train_infected': 34,\\\n",
    "                                'val_normal': 4,\\\n",
    "                                'val_infected': 4,\\\n",
    "                                'test_normal': 14,\\\n",
    "                                'test_infected': 13}\n",
    "        \n",
    "        # Path to images for different parts of the dataset\n",
    "        self.dataset_paths = {'train_normal': './dataset_demo/train/normal/',\\\n",
    "                              'train_infected': './dataset_demo/train/infected/',\\\n",
    "                              'val_normal': './dataset_demo/val/normal/',\\\n",
    "                              'val_infected': './dataset_demo/val/infected/',\\\n",
    "                              'test_normal': './dataset_demo/test/normal/',\\\n",
    "                              'test_infected': './dataset_demo/test/infected/'}\n",
    "        \n",
    "        \n",
    "    def describe(self):\n",
    "        \"\"\"\n",
    "        Descriptor function.\n",
    "        Will print details about the dataset when called.\n",
    "        \"\"\"\n",
    "        \n",
    "        # Generate description\n",
    "        msg = \"This is the Lung Dataset used for the Small Project Demo in the 50.039 Deep Learning class\"\n",
    "        msg += \" in Feb-March 2021. \\n\"\n",
    "        msg += \"It contains a total of {} images, \".format(sum(self.dataset_numbers.values()))\n",
    "        msg += \"of size {} by {}.\\n\".format(self.img_size[0], self.img_size[1])\n",
    "        msg += \"Images have been split in three groups: training, testing and validation sets.\\n\"\n",
    "        msg += \"The images are stored in the following locations \"\n",
    "        msg += \"and each one contains the following number of images:\\n\"\n",
    "        for key, val in self.dataset_paths.items():\n",
    "            msg += \" - {}, in folder {}: {} images.\\n\".format(key, val, self.dataset_numbers[key])\n",
    "        print(msg)\n",
    "        \n",
    "    \n",
    "    def open_img(self, group_val, class_val, index_val):\n",
    "        \"\"\"\n",
    "        Opens image with specified parameters.\n",
    "        \n",
    "        Parameters:\n",
    "        - group_val should take values in 'train', 'test' or 'val'.\n",
    "        - class_val variable should be set to 'normal' or 'infected'.\n",
    "        - index_val should be an integer with values between 0 and the maximal number of images in dataset.\n",
    "        \n",
    "        Returns loaded image as a normalized Numpy array.\n",
    "        \"\"\"\n",
    "        \n",
    "        # Asserts checking for consistency in passed parameters\n",
    "        err_msg = \"Error - group_val variable should be set to 'train', 'test' or 'val'.\"\n",
    "        assert group_val in self.groups, err_msg\n",
    "        \n",
    "        err_msg = \"Error - class_val variable should be set to 'normal' or 'infected'.\"\n",
    "        assert class_val in self.classes.values(), err_msg\n",
    "        \n",
    "        max_val = self.dataset_numbers['{}_{}'.format(group_val, class_val)]\n",
    "        err_msg = \"Error - index_val variable should be an integer between 0 and the maximal number of images.\"\n",
    "        err_msg += \"\\n(In {}/{}, you have {} images.)\".format(group_val, class_val, max_val)\n",
    "        assert isinstance(index_val, int), err_msg\n",
    "        assert index_val >= 0 and index_val <= max_val, err_msg\n",
    "        \n",
    "        # Open file as before\n",
    "        path_to_file = '{}/{}.jpg'.format(self.dataset_paths['{}_{}'.format(group_val, class_val)], index_val)\n",
    "        with open(path_to_file, 'rb') as f:\n",
    "            # Convert to Numpy array and normalize pixel values by dividing by 255.\n",
    "            im = np.asarray(Image.open(f))/255\n",
    "        f.close()\n",
    "        return im\n",
    "    \n",
    "    \n",
    "    def show_img(self, group_val, class_val, index_val):\n",
    "        \"\"\"\n",
    "        Opens, then displays image with specified parameters.\n",
    "        \n",
    "        Parameters:\n",
    "        - group_val should take values in 'train', 'test' or 'val'.\n",
    "        - class_val variable should be set to 'normal' or 'infected'.\n",
    "        - index_val should be an integer with values between 0 and the maximal number of images in dataset.\n",
    "        \"\"\"\n",
    "        \n",
    "        # Open image\n",
    "        im = self.open_img(group_val, class_val, index_val)\n",
    "        \n",
    "        # Display\n",
    "        plt.imshow(im)"
   ]
  },
  {
   "cell_type": "markdown",
   "id": "offshore-black",
   "metadata": {},
   "source": [
    "It can simply be called, and a generic description can be displayed."
   ]
  },
  {
   "cell_type": "code",
   "execution_count": null,
   "id": "lyric-minutes",
   "metadata": {},
   "outputs": [],
   "source": [
    "ld = Lung_Dataset()\n",
    "ld.describe()"
   ]
  },
  {
   "cell_type": "markdown",
   "id": "educated-spirituality",
   "metadata": {},
   "source": [
    "We can then load an image and check what are the values contained in the 150 by 150 Numpy array.\n",
    "And finally, we can display said image on screen."
   ]
  },
  {
   "cell_type": "code",
   "execution_count": null,
   "id": "polished-transsexual",
   "metadata": {},
   "outputs": [],
   "source": [
    "im = ld.open_img('train', 'normal', 1)\n",
    "print(im.shape)\n",
    "print(im)"
   ]
  },
  {
   "cell_type": "code",
   "execution_count": null,
   "id": "narrow-yeast",
   "metadata": {},
   "outputs": [],
   "source": [
    "ld.show_img('train', 'normal', 1)"
   ]
  },
  {
   "cell_type": "markdown",
   "id": "special-education",
   "metadata": {},
   "source": [
    "### 2.b. Creating a train Dataset object\n",
    "\n",
    "In practice however, one likes to define several datasets, for each subgroup (train, test, validation). This class however, will only be used to load images from the ./dataset_demo/train/ folder. It woks roughly as the previous Lung_Dataset class. In practice, we could have inherited Lung_Train_Dataset from Lung_Dataset, but we normally do not bother creating a general Dataset object like Lung_Dataset in Section 2.a.\n",
    "\n",
    "The Lung_Train_Dataset object resembles to the Lung_Dataset as it contains restricted versions of the same attributes we had in the Lung_Dataset object.\n",
    "\n",
    "It however contains two additional (special) methods, which need to be defined if we want to transform our Lung_Train_Dataset object into a dataloader later on.\n",
    "\n",
    "The first method is the special length method ( __ len __ ), which should return the number of images present in the dataset. Lucky for us, it can be easily computed using the dataset_numbers attribute of our object.\n",
    "\n",
    "The second one is the special getitem method ( __ getitem __ ), which is used to fetch an image and its label, using a single index value.\n",
    "\n",
    "By convention here, we have decided to open the image in ./dataset_demo/train/normal/XXX.jpg, if the value in XXX is strictly lower than 36, which is the number of images in the ./dataset_demo/train/normal/ folder.\n",
    "\n",
    "Otherwise, we open the image in ./dataset_demo/train/infected/YYY.jpg, where YYY is simply defined as YYY = XXX - 36.\n",
    "\n",
    "Note that if the value in XXX is larger than the length of the dataset, i.e. 36 + 34 = 70, then no image will be opened and the getitem will display an error, based on the asserts we have in the open_img method.\n",
    "\n",
    "Finally, the getitem method will return the image, along with a one-hot vector corresponding to the class of the object, i.e. [1, 0] for normal class and [0, 1] for infected class. Both returned parameters will be torch tensors."
   ]
  },
  {
   "cell_type": "code",
   "execution_count": null,
   "id": "therapeutic-ranking",
   "metadata": {},
   "outputs": [],
   "source": [
    "class Lung_Train_Dataset(Dataset):\n",
    "    \n",
    "    def __init__(self):\n",
    "        \"\"\"\n",
    "        Constructor for generic Dataset class - simply assembles\n",
    "        the important parameters in attributes.\n",
    "        \"\"\"\n",
    "        \n",
    "        # All images are of size 150 x 150\n",
    "        self.img_size = (150, 150)\n",
    "        \n",
    "        # Only two classes will be considered here (normal and infected)\n",
    "        self.classes = {0: 'normal', 1: 'infected'}\n",
    "        \n",
    "        # The dataset consists only of training images\n",
    "        self.groups = 'train'\n",
    "        \n",
    "        # Number of images in each part of the dataset\n",
    "        self.dataset_numbers = {'train_normal': 36,\\\n",
    "                                'train_infected': 34}\n",
    "        \n",
    "        # Path to images for different parts of the dataset\n",
    "        self.dataset_paths = {'train_normal': './dataset_demo/train/normal/',\\\n",
    "                              'train_infected': './dataset_demo/train/infected/'}\n",
    "        \n",
    "        \n",
    "    def describe(self):\n",
    "        \"\"\"\n",
    "        Descriptor function.\n",
    "        Will print details about the dataset when called.\n",
    "        \"\"\"\n",
    "        \n",
    "        # Generate description\n",
    "        msg = \"This is the training dataset of the Lung Dataset\"\n",
    "        msg += \" used for the Small Project Demo in the 50.039 Deep Learning class\"\n",
    "        msg += \" in Feb-March 2021. \\n\"\n",
    "        msg += \"It contains a total of {} images, \".format(sum(self.dataset_numbers.values()))\n",
    "        msg += \"of size {} by {}.\\n\".format(self.img_size[0], self.img_size[1])\n",
    "        msg += \"The images are stored in the following locations \"\n",
    "        msg += \"and each one contains the following number of images:\\n\"\n",
    "        for key, val in self.dataset_paths.items():\n",
    "            msg += \" - {}, in folder {}: {} images.\\n\".format(key, val, self.dataset_numbers[key])\n",
    "        print(msg)\n",
    "        \n",
    "    \n",
    "    def open_img(self, group_val, class_val, index_val):\n",
    "        \"\"\"\n",
    "        Opens image with specified parameters.\n",
    "        \n",
    "        Parameters:\n",
    "        - group_val should take values in 'train', 'test' or 'val'.\n",
    "        - class_val variable should be set to 'normal' or 'infected'.\n",
    "        - index_val should be an integer with values between 0 and the maximal number of images in dataset.\n",
    "        \n",
    "        Returns loaded image as a normalized Numpy array.\n",
    "        \"\"\"\n",
    "        \n",
    "        # Asserts checking for consistency in passed parameters\n",
    "        err_msg = \"Error - group_val variable should be set to 'train', 'test' or 'val'.\"\n",
    "        assert group_val in self.groups, err_msg\n",
    "        \n",
    "        err_msg = \"Error - class_val variable should be set to 'normal' or 'infected'.\"\n",
    "        assert class_val in self.classes.values(), err_msg\n",
    "        \n",
    "        max_val = self.dataset_numbers['{}_{}'.format(group_val, class_val)]\n",
    "        err_msg = \"Error - index_val variable should be an integer between 0 and the maximal number of images.\"\n",
    "        err_msg += \"\\n(In {}/{}, you have {} images.)\".format(group_val, class_val, max_val)\n",
    "        assert isinstance(index_val, int), err_msg\n",
    "        assert index_val >= 0 and index_val <= max_val, err_msg\n",
    "        \n",
    "        # Open file as before\n",
    "        path_to_file = '{}/{}.jpg'.format(self.dataset_paths['{}_{}'.format(group_val, class_val)], index_val)\n",
    "        with open(path_to_file, 'rb') as f:\n",
    "            im = np.asarray(Image.open(f))/255\n",
    "        f.close()\n",
    "        return im\n",
    "    \n",
    "    \n",
    "    def show_img(self, group_val, class_val, index_val):\n",
    "        \"\"\"\n",
    "        Opens, then displays image with specified parameters.\n",
    "        \n",
    "        Parameters:\n",
    "        - group_val should take values in 'train', 'test' or 'val'.\n",
    "        - class_val variable should be set to 'normal' or 'infected'.\n",
    "        - index_val should be an integer with values between 0 and the maximal number of images in dataset.\n",
    "        \"\"\"\n",
    "        \n",
    "        # Open image\n",
    "        im = self.open_img(group_val, class_val, index_val)\n",
    "        \n",
    "        # Display\n",
    "        plt.imshow(im)\n",
    "        \n",
    "        \n",
    "    def __len__(self):\n",
    "        \"\"\"\n",
    "        Length special method, returns the number of images in dataset.\n",
    "        \"\"\"\n",
    "        \n",
    "        # Length function\n",
    "        return sum(self.dataset_numbers.values())\n",
    "    \n",
    "    \n",
    "    def __getitem__(self, index):\n",
    "        \"\"\"\n",
    "        Getitem special method.\n",
    "        \n",
    "        Expects an integer value index, between 0 and len(self) - 1.\n",
    "        \n",
    "        Returns the image and its label as a one hot vector, both\n",
    "        in torch tensor format in dataset.\n",
    "        \"\"\"\n",
    "        \n",
    "        # Get item special method\n",
    "        first_val = int(list(self.dataset_numbers.values())[0])\n",
    "        if index < first_val:\n",
    "            class_val = 'normal'\n",
    "            label = torch.Tensor([1, 0])\n",
    "        else:\n",
    "            class_val = 'infected'\n",
    "            index = index - first_val\n",
    "            label = torch.Tensor([0, 1])\n",
    "        im = self.open_img(self.groups, class_val, index)\n",
    "        im = transforms.functional.to_tensor(np.array(im)).float()\n",
    "        return im, label"
   ]
  },
  {
   "cell_type": "markdown",
   "id": "handy-narrow",
   "metadata": {},
   "source": [
    "We can then create our Dataset object as before and display a description of the dataset."
   ]
  },
  {
   "cell_type": "code",
   "execution_count": null,
   "id": "experimental-literacy",
   "metadata": {
    "scrolled": true
   },
   "outputs": [],
   "source": [
    "ld_train = Lung_Train_Dataset()\n",
    "ld_train.describe()"
   ]
  },
  {
   "cell_type": "markdown",
   "id": "intense-riding",
   "metadata": {},
   "source": [
    "The length function applied to our dataset indeed gives the total number of images in this train dataset, that is 70."
   ]
  },
  {
   "cell_type": "code",
   "execution_count": null,
   "id": "logical-kinase",
   "metadata": {},
   "outputs": [],
   "source": [
    "print(len(ld_train))"
   ]
  },
  {
   "cell_type": "markdown",
   "id": "recent-underground",
   "metadata": {},
   "source": [
    "Finally, using the getitem method (i.e. using square bracket indexing on our object) will produce a 150 by 150 torch tensor corresponding to our image, with normalize values. It also produces a one-hot vector, in torch tensor format as well."
   ]
  },
  {
   "cell_type": "code",
   "execution_count": null,
   "id": "quantitative-bidding",
   "metadata": {},
   "outputs": [],
   "source": [
    "im, class_oh = ld_train[64]\n",
    "print(im.shape)\n",
    "print(im)\n",
    "print(class_oh)"
   ]
  },
  {
   "cell_type": "markdown",
   "id": "optional-compilation",
   "metadata": {},
   "source": [
    "### 2.c. Creating a test and val Dataset object\n",
    "\n",
    "Following the same logic in Section 2.b., we can create a Lung_Test_Dataset and a Lung_Val_Dataset object. They operate in the exact same manner as the Lung_Train_Dataset object from Section 2.b., but working on a different subfolder."
   ]
  },
  {
   "cell_type": "code",
   "execution_count": null,
   "id": "designing-green",
   "metadata": {},
   "outputs": [],
   "source": [
    "class Lung_Test_Dataset(Dataset):\n",
    "    \n",
    "    def __init__(self):\n",
    "        \"\"\"\n",
    "        Constructor for generic Dataset class - simply assembles\n",
    "        the important parameters in attributes.\n",
    "        \"\"\"\n",
    "        \n",
    "        # All images are of size 150 x 150\n",
    "        self.img_size = (150, 150)\n",
    "        \n",
    "        # Only two classes will be considered here (normal and infected)\n",
    "        self.classes = {0: 'normal', 1: 'infected'}\n",
    "        \n",
    "        # The dataset consists only of test images\n",
    "        self.groups = 'test'\n",
    "        \n",
    "        # Number of images in each part of the dataset\n",
    "        self.dataset_numbers = {'test_normal': 14,\\\n",
    "                                'test_infected': 13}\n",
    "        \n",
    "        # Path to images for different parts of the dataset\n",
    "        self.dataset_paths = {'test_normal': './dataset_demo/test/normal/',\\\n",
    "                              'test_infected': './dataset_demo/test/infected/'}\n",
    "        \n",
    "        \n",
    "    def describe(self):\n",
    "        \"\"\"\n",
    "        Descriptor function.\n",
    "        Will print details about the dataset when called.\n",
    "        \"\"\"\n",
    "        \n",
    "        # Generate description\n",
    "        msg = \"This is the test dataset of the Lung Dataset\"\n",
    "        msg += \" used for the Small Project Demo in the 50.039 Deep Learning class\"\n",
    "        msg += \" in Feb-March 2021. \\n\"\n",
    "        msg += \"It contains a total of {} images, \".format(sum(self.dataset_numbers.values()))\n",
    "        msg += \"of size {} by {}.\\n\".format(self.img_size[0], self.img_size[1])\n",
    "        msg += \"The images are stored in the following locations \"\n",
    "        msg += \"and each one contains the following number of images:\\n\"\n",
    "        for key, val in self.dataset_paths.items():\n",
    "            msg += \" - {}, in folder {}: {} images.\\n\".format(key, val, self.dataset_numbers[key])\n",
    "        print(msg)\n",
    "        \n",
    "    \n",
    "    def open_img(self, group_val, class_val, index_val):\n",
    "        \"\"\"\n",
    "        Opens image with specified parameters.\n",
    "        \n",
    "        Parameters:\n",
    "        - group_val should take values in 'train', 'test' or 'val'.\n",
    "        - class_val variable should be set to 'normal' or 'infected'.\n",
    "        - index_val should be an integer with values between 0 and the maximal number of images in dataset.\n",
    "        \n",
    "        Returns loaded image as a normalized Numpy array.\n",
    "        \"\"\"\n",
    "        \n",
    "        # Asserts checking for consistency in passed parameters\n",
    "        err_msg = \"Error - group_val variable should be set to 'train', 'test' or 'val'.\"\n",
    "        assert group_val in self.groups, err_msg\n",
    "        \n",
    "        err_msg = \"Error - class_val variable should be set to 'normal' or 'infected'.\"\n",
    "        assert class_val in self.classes.values(), err_msg\n",
    "        \n",
    "        max_val = self.dataset_numbers['{}_{}'.format(group_val, class_val)]\n",
    "        err_msg = \"Error - index_val variable should be an integer between 0 and the maximal number of images.\"\n",
    "        err_msg += \"\\n(In {}/{}, you have {} images.)\".format(group_val, class_val, max_val)\n",
    "        assert isinstance(index_val, int), err_msg\n",
    "        assert index_val >= 0 and index_val <= max_val, err_msg\n",
    "        \n",
    "        # Open file as before\n",
    "        path_to_file = '{}/{}.jpg'.format(self.dataset_paths['{}_{}'.format(group_val, class_val)], index_val)\n",
    "        with open(path_to_file, 'rb') as f:\n",
    "            im = np.asarray(Image.open(f))/255\n",
    "        f.close()\n",
    "        return im\n",
    "    \n",
    "    \n",
    "    def show_img(self, group_val, class_val, index_val):\n",
    "        \"\"\"\n",
    "        Opens, then displays image with specified parameters.\n",
    "        \n",
    "        Parameters:\n",
    "        - group_val should take values in 'train', 'test' or 'val'.\n",
    "        - class_val variable should be set to 'normal' or 'infected'.\n",
    "        - index_val should be an integer with values between 0 and the maximal number of images in dataset.\n",
    "        \"\"\"\n",
    "        \n",
    "        # Open image\n",
    "        im = self.open_img(group_val, class_val, index_val)\n",
    "        \n",
    "        # Display\n",
    "        plt.imshow(im)\n",
    "        \n",
    "        \n",
    "    def __len__(self):\n",
    "        \"\"\"\n",
    "        Length special method, returns the number of images in dataset.\n",
    "        \"\"\"\n",
    "        \n",
    "        # Length function\n",
    "        return sum(self.dataset_numbers.values())\n",
    "    \n",
    "    \n",
    "    def __getitem__(self, index):\n",
    "        \"\"\"\n",
    "        Getitem special method.\n",
    "        \n",
    "        Expects an integer value index, between 0 and len(self) - 1.\n",
    "        \n",
    "        Returns the image and its label as a one hot vector, both\n",
    "        in torch tensor format in dataset.\n",
    "        \"\"\"\n",
    "        \n",
    "        # Get item special method\n",
    "        first_val = int(list(self.dataset_numbers.values())[0])\n",
    "        if index < first_val:\n",
    "            class_val = 'normal'\n",
    "            label = torch.Tensor([1, 0])\n",
    "        else:\n",
    "            class_val = 'infected'\n",
    "            index = index - first_val\n",
    "            label = torch.Tensor([0, 1])\n",
    "        im = self.open_img(self.groups, class_val, index)\n",
    "        im = transforms.functional.to_tensor(np.array(im)).float()\n",
    "        return im, label"
   ]
  },
  {
   "cell_type": "code",
   "execution_count": null,
   "id": "southwest-upset",
   "metadata": {
    "scrolled": true
   },
   "outputs": [],
   "source": [
    "ld_test = Lung_Test_Dataset()\n",
    "ld_test.describe()"
   ]
  },
  {
   "cell_type": "code",
   "execution_count": null,
   "id": "formed-spanish",
   "metadata": {},
   "outputs": [],
   "source": [
    "print(len(ld_test))"
   ]
  },
  {
   "cell_type": "code",
   "execution_count": null,
   "id": "brief-premium",
   "metadata": {},
   "outputs": [],
   "source": [
    "im, class_oh = ld_test[18]\n",
    "print(im.shape)\n",
    "print(im)\n",
    "print(class_oh)"
   ]
  },
  {
   "cell_type": "code",
   "execution_count": null,
   "id": "normal-colonial",
   "metadata": {},
   "outputs": [],
   "source": [
    "class Lung_Val_Dataset(Dataset):\n",
    "    \n",
    "    def __init__(self):\n",
    "        \"\"\"\n",
    "        Constructor for generic Dataset class - simply assembles\n",
    "        the important parameters in attributes.\n",
    "        \"\"\"\n",
    "        \n",
    "        # All images are of size 150 x 150\n",
    "        self.img_size = (150, 150)\n",
    "        \n",
    "        # Only two classes will be considered here (normal and infected)\n",
    "        self.classes = {0: 'normal', 1: 'infected'}\n",
    "        \n",
    "        # The dataset consists only of validation images\n",
    "        self.groups = 'val'\n",
    "        \n",
    "        # Number of images in each part of the dataset\n",
    "        self.dataset_numbers = {'val_normal': 4,\\\n",
    "                                'val_infected': 4}\n",
    "        \n",
    "        # Path to images for different parts of the dataset\n",
    "        self.dataset_paths = {'val_normal': './dataset_demo/val/normal/',\\\n",
    "                              'val_infected': './dataset_demo/val/infected/'}\n",
    "        \n",
    "        \n",
    "    def describe(self):\n",
    "        \"\"\"\n",
    "        Descriptor function.\n",
    "        Will print details about the dataset when called.\n",
    "        \"\"\"\n",
    "        \n",
    "        # Generate description\n",
    "        msg = \"This is the validation dataset of the Lung Dataset\"\n",
    "        msg += \" used for the Small Project Demo in the 50.039 Deep Learning class\"\n",
    "        msg += \" in Feb-March 2021. \\n\"\n",
    "        msg += \"It contains a total of {} images, \".format(sum(self.dataset_numbers.values()))\n",
    "        msg += \"of size {} by {}.\\n\".format(self.img_size[0], self.img_size[1])\n",
    "        msg += \"The images are stored in the following locations \"\n",
    "        msg += \"and each one contains the following number of images:\\n\"\n",
    "        for key, val in self.dataset_paths.items():\n",
    "            msg += \" - {}, in folder {}: {} images.\\n\".format(key, val, self.dataset_numbers[key])\n",
    "        print(msg)\n",
    "        \n",
    "    \n",
    "    def open_img(self, group_val, class_val, index_val):\n",
    "        \"\"\"\n",
    "        Opens image with specified parameters.\n",
    "        \n",
    "        Parameters:\n",
    "        - group_val should take values in 'train', 'test' or 'val'.\n",
    "        - class_val variable should be set to 'normal' or 'infected'.\n",
    "        - index_val should be an integer with values between 0 and the maximal number of images in dataset.\n",
    "        \n",
    "        Returns loaded image as a normalized Numpy array.\n",
    "        \"\"\"\n",
    "        \n",
    "        # Asserts checking for consistency in passed parameters\n",
    "        err_msg = \"Error - group_val variable should be set to 'train', 'test' or 'val'.\"\n",
    "        assert group_val in self.groups, err_msg\n",
    "        \n",
    "        err_msg = \"Error - class_val variable should be set to 'normal' or 'infected'.\"\n",
    "        assert class_val in self.classes.values(), err_msg\n",
    "        \n",
    "        max_val = self.dataset_numbers['{}_{}'.format(group_val, class_val)]\n",
    "        err_msg = \"Error - index_val variable should be an integer between 0 and the maximal number of images.\"\n",
    "        err_msg += \"\\n(In {}/{}, you have {} images.)\".format(group_val, class_val, max_val)\n",
    "        assert isinstance(index_val, int), err_msg\n",
    "        assert index_val >= 0 and index_val <= max_val, err_msg\n",
    "        \n",
    "        # Open file as before\n",
    "        path_to_file = '{}/{}.jpg'.format(self.dataset_paths['{}_{}'.format(group_val, class_val)], index_val)\n",
    "        with open(path_to_file, 'rb') as f:\n",
    "            im = np.asarray(Image.open(f))/255\n",
    "        f.close()\n",
    "        return im\n",
    "    \n",
    "    \n",
    "    def show_img(self, group_val, class_val, index_val):\n",
    "        \"\"\"\n",
    "        Opens, then displays image with specified parameters.\n",
    "        \n",
    "        Parameters:\n",
    "        - group_val should take values in 'train', 'test' or 'val'.\n",
    "        - class_val variable should be set to 'normal' or 'infected'.\n",
    "        - index_val should be an integer with values between 0 and the maximal number of images in dataset.\n",
    "        \"\"\"\n",
    "        \n",
    "        # Open image\n",
    "        im = self.open_img(group_val, class_val, index_val)\n",
    "        \n",
    "        # Display\n",
    "        plt.imshow(im)\n",
    "        \n",
    "        \n",
    "    def __len__(self):\n",
    "        \"\"\"\n",
    "        Length special method, returns the number of images in dataset.\n",
    "        \"\"\"\n",
    "        \n",
    "        # Length function\n",
    "        return sum(self.dataset_numbers.values())\n",
    "    \n",
    "    \n",
    "    def __getitem__(self, index):\n",
    "        \"\"\"\n",
    "        Getitem special method.\n",
    "        \n",
    "        Expects an integer value index, between 0 and len(self) - 1.\n",
    "        \n",
    "        Returns the image and its label as a one hot vector, both\n",
    "        in torch tensor format in dataset.\n",
    "        \"\"\"\n",
    "        \n",
    "        # Get item special method\n",
    "        first_val = int(list(self.dataset_numbers.values())[0])\n",
    "        if index < first_val:\n",
    "            class_val = 'normal'\n",
    "            label = torch.Tensor([1, 0])\n",
    "        else:\n",
    "            class_val = 'infected'\n",
    "            index = index - first_val\n",
    "            label = torch.Tensor([0, 1])\n",
    "        im = self.open_img(self.groups, class_val, index)\n",
    "        im = transforms.functional.to_tensor(np.array(im)).float()\n",
    "        return im, label"
   ]
  },
  {
   "cell_type": "code",
   "execution_count": null,
   "id": "hungarian-restoration",
   "metadata": {
    "scrolled": true
   },
   "outputs": [],
   "source": [
    "ld_val = Lung_Val_Dataset()\n",
    "ld_val.describe()"
   ]
  },
  {
   "cell_type": "code",
   "execution_count": null,
   "id": "identified-editing",
   "metadata": {},
   "outputs": [],
   "source": [
    "print(len(ld_val))"
   ]
  },
  {
   "cell_type": "code",
   "execution_count": null,
   "id": "terminal-syndication",
   "metadata": {},
   "outputs": [],
   "source": [
    "im, class_oh = ld_val[3]\n",
    "print(im.shape)\n",
    "print(im)\n",
    "print(class_oh)"
   ]
  },
  {
   "cell_type": "markdown",
   "id": "polar-wrestling",
   "metadata": {},
   "source": [
    "## 3. Creating a Dataloader object\n",
    "\n",
    "The final step is to create Dataloaders, based on our previous Dataset objects. These Dataloaders will later be used for training, testing and evaluating our models in PyTorch.\n",
    "\n",
    "The dataloaders can be simply created by using the DataLoader object from the torch.utils.data library, and by simply passing it our Dataset object. Additional parameters such as the batch_size (set to 4 for demo here) can be specified. Another interesting parameter is the shuffle = True one, which will randomly shuffle the order in which the images are selected in the Dataset.\n",
    "\n",
    "Additional parameters for the DataLoader can be specified (see https://pytorch.org/docs/stable/data.html#torch.utils.data.DataLoader for details), but it will not be necessary for this small project."
   ]
  },
  {
   "cell_type": "code",
   "execution_count": null,
   "id": "collect-saver",
   "metadata": {},
   "outputs": [],
   "source": [
    "# Batch size value to be used (to be decided freely, but set to 4 for demo)\n",
    "bs_val = 4"
   ]
  },
  {
   "cell_type": "code",
   "execution_count": null,
   "id": "uniform-leeds",
   "metadata": {},
   "outputs": [],
   "source": [
    "# Dataloader from dataset (train)\n",
    "train_loader = DataLoader(ld_train, batch_size = bs_val, shuffle = True)\n",
    "print(train_loader)"
   ]
  },
  {
   "cell_type": "code",
   "execution_count": null,
   "id": "canadian-riding",
   "metadata": {},
   "outputs": [],
   "source": [
    "# Dataloader from dataset (test and val)\n",
    "test_loader = DataLoader(ld_test, batch_size = bs_val, shuffle = True)\n",
    "print(test_loader)\n",
    "val_loader = DataLoader(ld_val, batch_size = bs_val, shuffle = True)\n",
    "print(val_loader)"
   ]
  },
  {
   "cell_type": "markdown",
   "id": "liquid-encyclopedia",
   "metadata": {},
   "source": [
    "During the training, you will call for mini-batches using a for loop of some sort, probably similar to the one below.\n",
    "\n",
    "Notice how each iteration of the for loop below produces a torch tensor of size [1, bs_val, 150, 150] in v[0] containing the bs_val = 4 images in the current mini-batch. You also have, in v[1], a torch tensor of size [bs_val, 2], containing the one hot vectors for each of the bs_val = 4 images.\n",
    "\n",
    "We voluntarily interrupt it after one iteration of the mini-batch using an assert False."
   ]
  },
  {
   "cell_type": "code",
   "execution_count": null,
   "id": "floppy-lesbian",
   "metadata": {
    "scrolled": false
   },
   "outputs": [],
   "source": [
    "# Typical mini-batch for loop on dataloader (train)\n",
    "for k, v in enumerate(train_loader):\n",
    "    print(\"-----\")\n",
    "    print(k)\n",
    "    print(v[0])\n",
    "    print(v[1])\n",
    "    # Forced stop\n",
    "    break\n",
    "    #assert False, \"Forced stop after one iteration of the for loop\""
   ]
  },
  {
   "cell_type": "markdown",
   "id": "olympic-accuracy",
   "metadata": {},
   "source": [
    "## 4. Using our dataloader for training a model\n",
    "\n",
    "We can then use our custom dataloader for training a model.\n",
    "If we decide to create a model as a subclass of the nn.Module of PyTorch, and later write a train function, as in this Notebook shown in class (https://colab.research.google.com/drive/1zhDmMfSFBy3clH-NRp9nXruQXnckZ3X1#scrollTo=KZd049wKyFT8), then our train_loader object defined in Section 3., can be directly fed to our train function in place of the train_loader.\n",
    "\n",
    "We could for instance, define a simple (probably too simple!) model below."
   ]
  },
  {
   "cell_type": "code",
   "execution_count": null,
   "id": "accomplished-decline",
   "metadata": {},
   "outputs": [],
   "source": [
    "# A simple mode\n",
    "class Net(nn.Module):\n",
    "    def __init__(self):\n",
    "        super(Net, self).__init__()\n",
    "        # Conv2D: 1 input channel, 8 output channels, 3 by 3 kernel, stride of 1.\n",
    "        self.conv1 = nn.Conv2d(1, 4, 3, 1)\n",
    "        self.fc1 = nn.Linear(87616, 2)\n",
    "\n",
    "    def forward(self, x):\n",
    "        x = self.conv1(x)\n",
    "        x = torch.flatten(x, 1)\n",
    "        x = self.fc1(x)\n",
    "        output = F.log_softmax(x, dim = 1)\n",
    "        return output"
   ]
  },
  {
   "cell_type": "code",
   "execution_count": null,
   "id": "virgin-entertainment",
   "metadata": {},
   "outputs": [],
   "source": [
    "# Create model\n",
    "model = Net()"
   ]
  },
  {
   "cell_type": "markdown",
   "id": "closing-pension",
   "metadata": {},
   "source": [
    "Later on, we will probably have to write a train function, which will implement a mini-batch loop, which resembles the one below. It will simply iterate on the DataLoader we have defined earlier."
   ]
  },
  {
   "cell_type": "code",
   "execution_count": null,
   "id": "amber-arkansas",
   "metadata": {},
   "outputs": [],
   "source": [
    "# Try model on one mini-batch\n",
    "for batch_idx, (images_data, target_labels) in enumerate(train_loader):\n",
    "    predicted_labels = model(images_data)\n",
    "    print(predicted_labels)\n",
    "    print(target_labels)\n",
    "    # Forced stop\n",
    "    break\n",
    "    #assert False, \"Forced stop after one iteration of the mini-batch for loop\""
   ]
  },
  {
   "cell_type": "markdown",
   "id": "african-cemetery",
   "metadata": {},
   "source": [
    "## 5. What is next?\n",
    "\n",
    "You will have to download the full pictures repository, as specified in the Small Project instruction PDF. It will contain a much larger dataset, for which you will have to write a DataLoader. You may reuse parts of the codes presented in this notebook to come up with your custom DataLoader, if necessary.\n",
    "\n",
    "Later on, you will have to train a model for classification, as suggested in the Small Project PDF!\n",
    "Good luck!"
   ]
  },
  {
   "cell_type": "code",
   "execution_count": null,
   "id": "romantic-carbon",
   "metadata": {},
   "outputs": [],
   "source": []
  }
 ],
 "metadata": {
  "kernelspec": {
   "display_name": "Python 3",
   "language": "python",
   "name": "python3"
  },
  "language_info": {
   "codemirror_mode": {
    "name": "ipython",
    "version": 3
   },
   "file_extension": ".py",
   "mimetype": "text/x-python",
   "name": "python",
   "nbconvert_exporter": "python",
   "pygments_lexer": "ipython3",
   "version": "3.7.7"
  }
 },
 "nbformat": 4,
 "nbformat_minor": 5
}
