{
 "cells": [
  {
   "cell_type": "markdown",
   "metadata": {},
   "source": [
    "# Parameters"
   ]
  },
  {
   "cell_type": "code",
   "execution_count": 8,
   "metadata": {},
   "outputs": [],
   "source": [
    "from model import *\n",
    "from dataloader import *\n",
    "from dataset import *\n",
    "import torch\n",
    "import torch.optim\n",
    "from torch.optim.lr_scheduler import StepLR\n",
    "import matplotlib.pyplot as plt\n",
    "\n",
    "cuda = True\n",
    "\n",
    "# set cpu / gpu\n",
    "use_cuda = cuda and torch.cuda.is_available()\n",
    "device = torch.device(\"cuda\" if use_cuda else \"cpu\")"
   ]
  },
  {
   "cell_type": "code",
   "execution_count": 9,
   "metadata": {},
   "outputs": [],
   "source": [
    "# set parameter search values\n",
    "batch_sizes = [16,32,64]\n",
    "learning_rates = [1e-4, 1e-3, 1e-2]\n",
    "m1 = [0.8,0.9,0.99]\n",
    "m2 = [0.8,0.9,0.999]\n",
    "weight_decays = [1e-5, 1e-4, 1e-3]\n",
    "gammas = [0.95, 0.9]\n",
    "step_sizes = [1,2]"
   ]
  },
  {
   "cell_type": "code",
   "execution_count": 10,
   "metadata": {},
   "outputs": [
    {
     "name": "stdout",
     "output_type": "stream",
     "text": [
      "Batch size: 16 - LR: 0.0001 - Beta1: 0.8 - Beta2: 0.8 - Weight Decay: 1e-05 - Gamma: 0.95 - Stepsize: 1\n"
     ]
    },
    {
     "name": "stderr",
     "output_type": "stream",
     "text": [
      "C:\\Users\\65842\\Documents\\GitHub\\DL_Small_Project\\model.py:51: UserWarning: nn.init.kaiming_normal is now deprecated in favor of nn.init.kaiming_normal_.\n",
      "  nn.init.kaiming_normal(m.weight)\n"
     ]
    },
    {
     "name": "stdout",
     "output_type": "stream",
     "text": [
      "Searching...\n",
      "Train Epoch: 1 @ 23:03:50.766136 \n",
      "Train Loss: 0.3516 - Train Accuracy: 87.3%\n",
      "Test Loss: 1.8398 - Test Accuracy: 65.0%\n",
      "Best combination so far with test accuracy: 64.98371335504886\n",
      "Train Epoch: 2 @ 23:04:15.215657 \n",
      "Train Loss: 0.2053 - Train Accuracy: 91.5%\n",
      "Test Loss: 1.5236 - Test Accuracy: 68.1%\n",
      "Best combination so far with test accuracy: 68.07817589576547\n",
      "Train Epoch: 3 @ 23:06:01.965301 \n",
      "Train Loss: 0.5378 - Train Accuracy: 82.9%\n",
      "Test Loss: 2.4682 - Test Accuracy: 63.5%\n",
      "Batch size: 16 - LR: 0.0001 - Beta1: 0.8 - Beta2: 0.8 - Weight Decay: 1e-05 - Gamma: 0.95 - Stepsize: 2\n",
      "Searching...\n"
     ]
    },
    {
     "ename": "KeyboardInterrupt",
     "evalue": "",
     "output_type": "error",
     "traceback": [
      "\u001b[1;31m---------------------------------------------------------------------------\u001b[0m",
      "\u001b[1;31mKeyboardInterrupt\u001b[0m                         Traceback (most recent call last)",
      "\u001b[1;32m<ipython-input-10-72d56ebdeeff>\u001b[0m in \u001b[0;36m<module>\u001b[1;34m\u001b[0m\n\u001b[0;32m     29\u001b[0m                             \u001b[1;31m# train for 3 epochs\u001b[0m\u001b[1;33m\u001b[0m\u001b[1;33m\u001b[0m\u001b[1;33m\u001b[0m\u001b[0m\n\u001b[0;32m     30\u001b[0m                             \u001b[1;32mfor\u001b[0m \u001b[0mepoch\u001b[0m \u001b[1;32min\u001b[0m \u001b[0mrange\u001b[0m\u001b[1;33m(\u001b[0m\u001b[1;36m1\u001b[0m\u001b[1;33m,\u001b[0m \u001b[1;36m4\u001b[0m\u001b[1;33m)\u001b[0m\u001b[1;33m:\u001b[0m\u001b[1;33m\u001b[0m\u001b[1;33m\u001b[0m\u001b[0m\n\u001b[1;32m---> 31\u001b[1;33m                                 \u001b[0m_\u001b[0m\u001b[1;33m,\u001b[0m \u001b[0m_\u001b[0m\u001b[1;33m,\u001b[0m \u001b[0m_\u001b[0m\u001b[1;33m,\u001b[0m \u001b[0mtest_acc\u001b[0m \u001b[1;33m=\u001b[0m \u001b[0mtrain\u001b[0m\u001b[1;33m(\u001b[0m\u001b[0mmodel\u001b[0m\u001b[1;33m,\u001b[0m \u001b[0mdevice\u001b[0m\u001b[1;33m,\u001b[0m \u001b[0mld_train\u001b[0m\u001b[1;33m,\u001b[0m \u001b[0mld_test\u001b[0m\u001b[1;33m,\u001b[0m \u001b[0moptimizer\u001b[0m\u001b[1;33m,\u001b[0m \u001b[0mepoch\u001b[0m\u001b[1;33m)\u001b[0m\u001b[1;33m\u001b[0m\u001b[1;33m\u001b[0m\u001b[0m\n\u001b[0m\u001b[0;32m     32\u001b[0m                                 \u001b[1;32mif\u001b[0m \u001b[0mbest_acc\u001b[0m\u001b[1;33m<\u001b[0m\u001b[0mtest_acc\u001b[0m\u001b[1;33m:\u001b[0m\u001b[1;33m\u001b[0m\u001b[1;33m\u001b[0m\u001b[0m\n\u001b[0;32m     33\u001b[0m                                     \u001b[0mbest_acc\u001b[0m \u001b[1;33m=\u001b[0m \u001b[0mtest_acc\u001b[0m\u001b[1;33m\u001b[0m\u001b[1;33m\u001b[0m\u001b[0m\n",
      "\u001b[1;32m~\\Documents\\GitHub\\DL_Small_Project\\model.py\u001b[0m in \u001b[0;36mtrain\u001b[1;34m(model, device, train_loader, test_loader, optimizer, epoch)\u001b[0m\n\u001b[0;32m    117\u001b[0m         \u001b[1;31m# convert one-hot to numerical categories\u001b[0m\u001b[1;33m\u001b[0m\u001b[1;33m\u001b[0m\u001b[1;33m\u001b[0m\u001b[0m\n\u001b[0;32m    118\u001b[0m         \u001b[0mtarget\u001b[0m \u001b[1;33m=\u001b[0m \u001b[0mtorch\u001b[0m\u001b[1;33m.\u001b[0m\u001b[0margmax\u001b[0m\u001b[1;33m(\u001b[0m\u001b[0mtarget\u001b[0m\u001b[1;33m,\u001b[0m \u001b[0mdim\u001b[0m\u001b[1;33m=\u001b[0m\u001b[1;36m1\u001b[0m\u001b[1;33m)\u001b[0m\u001b[1;33m.\u001b[0m\u001b[0mlong\u001b[0m\u001b[1;33m(\u001b[0m\u001b[1;33m)\u001b[0m\u001b[1;33m\u001b[0m\u001b[1;33m\u001b[0m\u001b[0m\n\u001b[1;32m--> 119\u001b[1;33m         \u001b[0moptimizer\u001b[0m\u001b[1;33m.\u001b[0m\u001b[0mzero_grad\u001b[0m\u001b[1;33m(\u001b[0m\u001b[1;33m)\u001b[0m\u001b[1;33m\u001b[0m\u001b[1;33m\u001b[0m\u001b[0m\n\u001b[0m\u001b[0;32m    120\u001b[0m         \u001b[0moutput\u001b[0m \u001b[1;33m=\u001b[0m \u001b[0mmodel\u001b[0m\u001b[1;33m(\u001b[0m\u001b[0mdata\u001b[0m\u001b[1;33m)\u001b[0m\u001b[1;33m\u001b[0m\u001b[1;33m\u001b[0m\u001b[0m\n\u001b[0;32m    121\u001b[0m         \u001b[0mcriterion\u001b[0m \u001b[1;33m=\u001b[0m \u001b[0mnn\u001b[0m\u001b[1;33m.\u001b[0m\u001b[0mCrossEntropyLoss\u001b[0m\u001b[1;33m(\u001b[0m\u001b[1;33m)\u001b[0m\u001b[1;33m\u001b[0m\u001b[1;33m\u001b[0m\u001b[0m\n",
      "\u001b[1;32m~\\Anaconda3\\lib\\site-packages\\torch\\optim\\optimizer.py\u001b[0m in \u001b[0;36mzero_grad\u001b[1;34m(self)\u001b[0m\n\u001b[0;32m    163\u001b[0m                 \u001b[1;32mif\u001b[0m \u001b[0mp\u001b[0m\u001b[1;33m.\u001b[0m\u001b[0mgrad\u001b[0m \u001b[1;32mis\u001b[0m \u001b[1;32mnot\u001b[0m \u001b[1;32mNone\u001b[0m\u001b[1;33m:\u001b[0m\u001b[1;33m\u001b[0m\u001b[1;33m\u001b[0m\u001b[0m\n\u001b[0;32m    164\u001b[0m                     \u001b[0mp\u001b[0m\u001b[1;33m.\u001b[0m\u001b[0mgrad\u001b[0m\u001b[1;33m.\u001b[0m\u001b[0mdetach_\u001b[0m\u001b[1;33m(\u001b[0m\u001b[1;33m)\u001b[0m\u001b[1;33m\u001b[0m\u001b[1;33m\u001b[0m\u001b[0m\n\u001b[1;32m--> 165\u001b[1;33m                     \u001b[0mp\u001b[0m\u001b[1;33m.\u001b[0m\u001b[0mgrad\u001b[0m\u001b[1;33m.\u001b[0m\u001b[0mzero_\u001b[0m\u001b[1;33m(\u001b[0m\u001b[1;33m)\u001b[0m\u001b[1;33m\u001b[0m\u001b[1;33m\u001b[0m\u001b[0m\n\u001b[0m\u001b[0;32m    166\u001b[0m \u001b[1;33m\u001b[0m\u001b[0m\n\u001b[0;32m    167\u001b[0m     \u001b[1;32mdef\u001b[0m \u001b[0mstep\u001b[0m\u001b[1;33m(\u001b[0m\u001b[0mself\u001b[0m\u001b[1;33m,\u001b[0m \u001b[0mclosure\u001b[0m\u001b[1;33m)\u001b[0m\u001b[1;33m:\u001b[0m\u001b[1;33m\u001b[0m\u001b[1;33m\u001b[0m\u001b[0m\n",
      "\u001b[1;31mKeyboardInterrupt\u001b[0m: "
     ]
    }
   ],
   "source": [
    "# bc1\n",
    "\n",
    "\n",
    "best_recall = 0\n",
    "best_batch = None\n",
    "best_lr = None\n",
    "best_beta1 = None\n",
    "best_beta1 = None\n",
    "best_wdecay = None\n",
    "best_gamma = None\n",
    "best_stepsize = None\n",
    "\n",
    "for b in batch_sizes:\n",
    "    for lr in learning_rates:\n",
    "        for beta1 in m1:\n",
    "            for beta2 in m2:\n",
    "                for w in weight_decays:\n",
    "                    for g in gammas:\n",
    "                        for s in step_sizes:\n",
    "                            print(\"Batch size: {} - LR: {} - Beta1: {} - Beta2: {} - Weight Decay: {} - Gamma: {} - Stepsize: {}\".format(b,lr,beta1,beta2,w,g,s))\n",
    "                           \n",
    "                            ld_train = load_train(Lung_Train_Dataset_BC1(), b)\n",
    "                            ld_test = load_test(Lung_Test_Dataset_BC1(), b)\n",
    "                            model = Normal_VS_Infected().to(device)\n",
    "                            optimizer = optim.Adam(model.parameters(), lr=lr, betas=(beta1, beta2), weight_decay=w)\n",
    "                            scheduler = StepLR(optimizer, step_size=s, gamma=g)\n",
    "                            # train the model\n",
    "                            print(\"Searching...\")\n",
    "                            # train for 3 epochs\n",
    "                            for epoch in range(1, 4):\n",
    "                                _, _, _, _, _, test_recall = train(model, device, ld_train, ld_test, optimizer, epoch)\n",
    "                                if best_recall<test_recall:\n",
    "                                    best_recall = test_recall\n",
    "                                    best_batch = b\n",
    "                                    best_lr = lr\n",
    "                                    best_beta1 = beta1\n",
    "                                    best_beta2 = beta2\n",
    "                                    best_wdecay = w\n",
    "                                    best_gamma = g\n",
    "                                    best_stepsize = s\n",
    "                                    print(\"Best combination so far with test accuracy: {:.1f}%\".format(test_acc))"
   ]
  },
  {
   "cell_type": "code",
   "execution_count": null,
   "metadata": {},
   "outputs": [],
   "source": [
    "# bc2\n",
    "\n",
    "\n",
    "best_recall = 0\n",
    "best_batch = None\n",
    "best_lr = None\n",
    "best_beta1 = None\n",
    "best_beta1 = None\n",
    "best_wdecay = None\n",
    "best_gamma = None\n",
    "best_stepsize = None\n",
    "\n",
    "for b in batch_sizes:\n",
    "    for lr in learning_rates:\n",
    "        for beta1 in m1:\n",
    "            for beta2 in m2:\n",
    "                for w in weight_decays:\n",
    "                    for g in gammas:\n",
    "                        for s in step_sizes:\n",
    "                            print(\"Batch size: {} - LR: {} - Beta1: {} - Beta2: {} - Weight Decay: {} - Gamma: {} - Stepsize: {}\".format(b,lr,beta1,beta2,w,g,s))\n",
    "                           \n",
    "                            ld_train = load_train(Lung_Train_Dataset_BC2(), b)\n",
    "                            ld_test = load_test(Lung_Test_Dataset_BC2(), b)\n",
    "                            model = Covid_VS_NonCovid().to(device)\n",
    "                            optimizer = optim.Adam(model.parameters(), lr=lr, betas=(beta1, beta2), weight_decay=w)\n",
    "                            scheduler = StepLR(optimizer, step_size=s, gamma=g)\n",
    "                            # train the model\n",
    "                            print(\"Searching...\")\n",
    "                            # train for 3 epochs\n",
    "                            for epoch in range(1, 4):\n",
    "                                _, _, _, _, _, test_recall = train(model, device, ld_train, ld_test, optimizer, epoch)\n",
    "                                if best_recall<test_recall:\n",
    "                                    best_recall = test_recall\n",
    "                                    best_batch = b\n",
    "                                    best_lr = lr\n",
    "                                    best_beta1 = beta1\n",
    "                                    best_beta2 = beta2\n",
    "                                    best_wdecay = w\n",
    "                                    best_gamma = g\n",
    "                                    best_stepsize = s\n",
    "                                    print(\"Best combination so far with test accuracy: {:.1f}%\".format(test_acc))"
   ]
  },
  {
   "cell_type": "code",
   "execution_count": null,
   "metadata": {},
   "outputs": [],
   "source": []
  },
  {
   "cell_type": "markdown",
   "metadata": {},
   "source": [
    "# No. of Convolutional Layers"
   ]
  },
  {
   "cell_type": "markdown",
   "metadata": {},
   "source": [
    "## Normal vs Infected"
   ]
  },
  {
   "cell_type": "code",
   "execution_count": null,
   "metadata": {
    "scrolled": true
   },
   "outputs": [
    {
     "name": "stdout",
     "output_type": "stream",
     "text": [
      "Training...\n",
      "Train Epoch: 1 @ 12:36:24.997521 \n",
      "Train Loss: 0.2896 - Train Accuracy: 88.7%\n",
      "Test Loss: 0.4982 - Test Accuracy: 69.9%\n",
      "Train Epoch: 2 @ 12:37:18.367929 \n",
      "Train Loss: 0.2310 - Train Accuracy: 91.9%\n",
      "Test Loss: 0.4516 - Test Accuracy: 74.9%\n",
      "Train Epoch: 3 @ 12:38:11.057219 \n",
      "Train Loss: 0.2088 - Train Accuracy: 92.9%\n",
      "Test Loss: 0.4496 - Test Accuracy: 75.2%\n",
      "Train Epoch: 4 @ 12:39:03.591623 \n",
      "Train Loss: 0.1970 - Train Accuracy: 93.4%\n",
      "Test Loss: 0.4532 - Test Accuracy: 75.2%\n",
      "Train Epoch: 5 @ 12:39:56.113684 \n",
      "Train Loss: 0.1905 - Train Accuracy: 93.4%\n",
      "Test Loss: 0.4813 - Test Accuracy: 74.9%\n",
      "Train Epoch: 6 @ 12:40:49.950085 \n",
      "Train Loss: 0.1862 - Train Accuracy: 93.7%\n",
      "Test Loss: 0.4442 - Test Accuracy: 76.2%\n",
      "Train Epoch: 7 @ 12:42:16.199696 \n",
      "Train Loss: 0.1834 - Train Accuracy: 93.5%\n",
      "Test Loss: 0.4834 - Test Accuracy: 74.9%\n",
      "Train Epoch: 8 @ 12:43:27.062500 \n",
      "Train Loss: 0.1808 - Train Accuracy: 93.9%\n",
      "Test Loss: 0.4663 - Test Accuracy: 75.7%\n",
      "Train Epoch: 9 @ 12:44:36.923088 \n",
      "Train Loss: 0.1802 - Train Accuracy: 93.5%\n",
      "Test Loss: 0.4877 - Test Accuracy: 75.1%\n",
      "Train Epoch: 10 @ 12:45:38.517270 \n",
      "Train Loss: 0.1787 - Train Accuracy: 93.8%\n",
      "Test Loss: 0.4733 - Test Accuracy: 75.4%\n"
     ]
    }
   ],
   "source": [
    "# 1 conv layer\n",
    "%run train.py binary_classifier_1 --epochs 10 --save_dir \"bc1_conv1.pt\""
   ]
  },
  {
   "cell_type": "code",
   "execution_count": null,
   "metadata": {
    "scrolled": true
   },
   "outputs": [
    {
     "name": "stdout",
     "output_type": "stream",
     "text": [
      "Training...\n",
      "Train Epoch: 1 @ 13:07:21.574683 \n",
      "Train Loss: 0.3258 - Train Accuracy: 89.9%\n",
      "Test Loss: 0.4739 - Test Accuracy: 75.1%\n",
      "Train Epoch: 2 @ 13:08:55.718003 \n",
      "Train Loss: 0.2516 - Train Accuracy: 90.6%\n",
      "Test Loss: 0.4812 - Test Accuracy: 73.5%\n",
      "Train Epoch: 3 @ 13:10:32.663433 \n",
      "Train Loss: 0.2199 - Train Accuracy: 92.1%\n",
      "Test Loss: 0.4588 - Test Accuracy: 74.9%\n",
      "Train Epoch: 4 @ 13:12:24.373185 \n",
      "Train Loss: 0.2059 - Train Accuracy: 93.0%\n",
      "Test Loss: 0.4180 - Test Accuracy: 77.5%\n",
      "Train Epoch: 5 @ 13:14:03.871088 \n",
      "Train Loss: 0.1953 - Train Accuracy: 93.2%\n",
      "Test Loss: 0.4587 - Test Accuracy: 75.1%\n",
      "Train Epoch: 6 @ 13:15:51.191111 \n",
      "Train Loss: 0.1918 - Train Accuracy: 93.0%\n",
      "Test Loss: 0.4936 - Test Accuracy: 74.4%\n",
      "Train Epoch: 7 @ 13:17:32.398227 \n",
      "Train Loss: 0.1859 - Train Accuracy: 93.5%\n",
      "Test Loss: 0.4575 - Test Accuracy: 75.9%\n",
      "Train Epoch: 8 @ 13:19:09.074570 \n",
      "Train Loss: 0.1835 - Train Accuracy: 93.6%\n",
      "Test Loss: 0.4576 - Test Accuracy: 75.9%\n",
      "Train Epoch: 9 @ 13:20:48.013711 \n",
      "Train Loss: 0.1819 - Train Accuracy: 93.6%\n",
      "Test Loss: 0.4620 - Test Accuracy: 75.9%\n",
      "Train Epoch: 10 @ 13:22:39.791344 \n",
      "Train Loss: 0.1808 - Train Accuracy: 93.7%\n",
      "Test Loss: 0.4625 - Test Accuracy: 75.9%\n"
     ]
    }
   ],
   "source": [
    "# 2 conv layer\n",
    "%run train.py binary_classifier_1 --epochs 10 --save_dir \"bc1_conv2.pt\""
   ]
  },
  {
   "cell_type": "code",
   "execution_count": null,
   "metadata": {
    "scrolled": true
   },
   "outputs": [
    {
     "name": "stdout",
     "output_type": "stream",
     "text": [
      "Training...\n",
      "Train Epoch: 1 @ 13:29:42.568080 \n",
      "Train Loss: 0.2337 - Train Accuracy: 91.7%\n",
      "Test Loss: 0.4519 - Test Accuracy: 75.7%\n",
      "Train Epoch: 2 @ 13:32:53.883566 \n",
      "Train Loss: 0.1865 - Train Accuracy: 92.9%\n",
      "Test Loss: 0.5071 - Test Accuracy: 74.8%\n",
      "Train Epoch: 3 @ 13:35:50.189693 \n",
      "Train Loss: 0.1644 - Train Accuracy: 93.9%\n",
      "Test Loss: 0.5261 - Test Accuracy: 75.6%\n",
      "Train Epoch: 4 @ 13:38:51.976492 \n",
      "Train Loss: 0.1530 - Train Accuracy: 94.5%\n",
      "Test Loss: 0.4925 - Test Accuracy: 76.4%\n",
      "Train Epoch: 5 @ 13:42:09.410584 \n",
      "Train Loss: 0.1478 - Train Accuracy: 94.5%\n",
      "Test Loss: 0.4953 - Test Accuracy: 76.5%\n",
      "Train Epoch: 6 @ 13:45:14.619910 \n",
      "Train Loss: 0.1446 - Train Accuracy: 94.6%\n",
      "Test Loss: 0.5511 - Test Accuracy: 75.9%\n",
      "Train Epoch: 7 @ 13:48:17.574868 \n",
      "Train Loss: 0.1420 - Train Accuracy: 94.6%\n",
      "Test Loss: 0.5240 - Test Accuracy: 76.5%\n",
      "Train Epoch: 8 @ 13:51:21.293764 \n",
      "Train Loss: 0.1407 - Train Accuracy: 94.7%\n",
      "Test Loss: 0.5477 - Test Accuracy: 76.2%\n",
      "Train Epoch: 9 @ 13:54:24.731565 \n",
      "Train Loss: 0.1397 - Train Accuracy: 94.7%\n",
      "Test Loss: 0.5252 - Test Accuracy: 76.7%\n",
      "Train Epoch: 10 @ 13:57:30.878090 \n",
      "Train Loss: 0.1389 - Train Accuracy: 94.7%\n",
      "Test Loss: 0.5389 - Test Accuracy: 76.4%\n"
     ]
    }
   ],
   "source": [
    "# 3 conv layer\n",
    "%run train.py binary_classifier_1 --epochs 10 --save_dir \"bc1_conv3.pt\""
   ]
  },
  {
   "cell_type": "code",
   "execution_count": null,
   "metadata": {
    "scrolled": true
   },
   "outputs": [
    {
     "name": "stdout",
     "output_type": "stream",
     "text": [
      "Training...\n",
      "Train Epoch: 1 @ 14:04:11.350704 \n",
      "Train Loss: 0.2134 - Train Accuracy: 91.6%\n",
      "Test Loss: 0.4913 - Test Accuracy: 73.6%\n",
      "Train Epoch: 2 @ 14:09:56.710956 \n",
      "Train Loss: 0.1578 - Train Accuracy: 94.3%\n",
      "Test Loss: 0.5097 - Test Accuracy: 76.2%\n",
      "Train Epoch: 3 @ 14:15:42.122916 \n",
      "Train Loss: 0.1428 - Train Accuracy: 94.6%\n",
      "Test Loss: 0.6092 - Test Accuracy: 73.6%\n",
      "Train Epoch: 4 @ 14:21:25.169237 \n",
      "Train Loss: 0.1331 - Train Accuracy: 94.9%\n",
      "Test Loss: 0.6255 - Test Accuracy: 74.1%\n",
      "Train Epoch: 5 @ 14:27:09.427066 \n",
      "Train Loss: 0.1294 - Train Accuracy: 95.0%\n",
      "Test Loss: 0.6707 - Test Accuracy: 73.6%\n",
      "Train Epoch: 6 @ 14:32:53.062939 \n",
      "Train Loss: 0.1255 - Train Accuracy: 95.2%\n",
      "Test Loss: 0.6324 - Test Accuracy: 75.2%\n",
      "Train Epoch: 7 @ 14:38:52.363382 \n",
      "Train Loss: 0.1239 - Train Accuracy: 95.2%\n",
      "Test Loss: 0.6624 - Test Accuracy: 74.4%\n",
      "Train Epoch: 8 @ 14:44:54.442785 \n",
      "Train Loss: 0.1235 - Train Accuracy: 95.1%\n",
      "Test Loss: 0.6267 - Test Accuracy: 75.9%\n",
      "Train Epoch: 9 @ 14:50:52.507786 \n",
      "Train Loss: 0.1232 - Train Accuracy: 95.2%\n",
      "Test Loss: 0.6178 - Test Accuracy: 76.1%\n",
      "Train Epoch: 10 @ 14:57:22.402880 \n",
      "Train Loss: 0.1217 - Train Accuracy: 95.3%\n",
      "Test Loss: 0.6595 - Test Accuracy: 74.6%\n"
     ]
    }
   ],
   "source": [
    "# 4 conv layer\n",
    "%run train.py binary_classifier_1 --epochs 10 --save_dir \"bc1_conv.pt\""
   ]
  },
  {
   "cell_type": "markdown",
   "metadata": {},
   "source": [
    "## Covid vs Non-covid"
   ]
  },
  {
   "cell_type": "code",
   "execution_count": null,
   "metadata": {},
   "outputs": [],
   "source": [
    "# 1 conv layer\n",
    "%run train.py binary_classifier_2 --epochs 10 --save_dir \"bc2_conv1.pt\""
   ]
  },
  {
   "cell_type": "code",
   "execution_count": null,
   "metadata": {},
   "outputs": [],
   "source": [
    "# 2 conv layer\n",
    "%run train.py binary_classifier_2 --epochs 10 --save_dir \"bc2_conv2.pt\""
   ]
  },
  {
   "cell_type": "code",
   "execution_count": null,
   "metadata": {},
   "outputs": [],
   "source": [
    "# 3 conv layer\n",
    "%run train.py binary_classifier_2 --epochs 10 --save_dir \"bc2_conv3.pt\""
   ]
  },
  {
   "cell_type": "code",
   "execution_count": null,
   "metadata": {},
   "outputs": [],
   "source": [
    "# 4 conv layer\n",
    "%run train.py binary_classifier_2 --epochs 10 --save_dir \"bc2_conv4.pt\""
   ]
  }
 ],
 "metadata": {
  "kernelspec": {
   "display_name": "Python 3",
   "language": "python",
   "name": "python3"
  },
  "language_info": {
   "codemirror_mode": {
    "name": "ipython",
    "version": 3
   },
   "file_extension": ".py",
   "mimetype": "text/x-python",
   "name": "python",
   "nbconvert_exporter": "python",
   "pygments_lexer": "ipython3",
   "version": "3.6.10"
  }
 },
 "nbformat": 4,
 "nbformat_minor": 5
}
